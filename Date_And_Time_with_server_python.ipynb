{
  "cells": [
    {
      "cell_type": "markdown",
      "metadata": {
        "id": "view-in-github",
        "colab_type": "text"
      },
      "source": [
        "<a href=\"https://colab.research.google.com/github/PhoenixStormJr/alternate-simple-ntp-phoenix/blob/main/Date_And_Time_with_server_python.ipynb\" target=\"_parent\"><img src=\"https://colab.research.google.com/assets/colab-badge.svg\" alt=\"Open In Colab\"/></a>"
      ]
    },
    {
      "cell_type": "code",
      "source": [
        "#ONLY CHANGE THIS VARIABLE:\n",
        "zone = 8\n",
        "\n",
        "\n",
        "\n",
        "\n",
        "import os\n",
        "def GetTime(zone,format):\n",
        "  zoneSites = ['https://time.is/Baker_Island', 'https://time.is/Pago_Pago', 'https://time.is/Avarua', 'https://time.is/Atuona', 'https://time.is/Rikitea', 'https://time.is/Alaska', 'https://time.is/Los_Angeles', 'https://time.is/Albuquerque', 'https://time.is/Chicago', 'https://time.is/New_York', 'https://time.is/S%C3%A3o_Paulo', 'https://time.is/Newfoundland_and_Labrador', 'https://time.is/Saint_Pierre_and_Miquelon', 'https://time.is/Praia', 'https://time.is/Bobo-Dioulasso', 'https://time.is/Algiers', 'https://time.is/Durr%C3%ABs', 'https://time.is/Manama', 'https://time.is/Isfahan', 'https://time.is/Yerevan', 'https://time.is/Kabul', 'https://time.is/Almaty', 'https://time.is/Ahmedabad', 'https://time.is/Biratnagar', 'https://time.is/Chittagong', 'https://time.is/Naypyidaw', 'https://time.is/Phnom_Penh', 'https://time.is/Mandurah', 'https://time.is/Ambon_City', 'https://time.is/Adelaide', 'https://time.is/Australian_Capital_Territory', 'https://time.is/Palikir', 'https://time.is/Suva', 'https://time.is/Apia', 'https://time.is/Tabwakea_Village']\n",
        "  import urllib.request\n",
        "  #Get time from server:\n",
        "  headers = {\n",
        "      'User-Agent': 'Mozilla/5.0 (Windows NT 10.0; Win64; x64) AppleWebKit/537.36 (KHTML, like Gecko) Chrome/58.0.3029.110 Safari/537.3'\n",
        "  }\n",
        "  mystr = urllib.request.urlopen(urllib.request.Request(zoneSites[zone], headers=headers)).read().decode(\"utf8\")\n",
        "  location = mystr.find('<time id=\"clock\">')\n",
        "  AMPM = mystr[location+81:location+83]\n",
        "  time_str = mystr[location+17:location+25]\n",
        "  if(format == 2):\n",
        "    time_split = time_str.split(':')\n",
        "    if(AMPM == 'PM'):\n",
        "      hour = str(int(time_split[0])+12)\n",
        "    else:\n",
        "      hour = time_split[0]\n",
        "    minute = time_split[1]\n",
        "    second = time_split[2]\n",
        "    time=f\"{hour}:{minute}:{second}\"\n",
        "  elif(format == 1):\n",
        "    time = time_str+AMPM\n",
        "  location = mystr.find('title=\"Press for calendar\">')\n",
        "  date_str = mystr[location+35:location+47]\n",
        "  date_str = date_str.replace(',','')\n",
        "  date_split = date_str.split(' ')\n",
        "  month = date_split[0]\n",
        "  day = date_split[1]\n",
        "  year = date_split[2]\n",
        "  if(month == 'January'):\n",
        "    month2 = '01'\n",
        "  if(month == 'February'):\n",
        "    month2 = '02'\n",
        "  if(month == 'March'):\n",
        "    month2 = '03'\n",
        "  if(month == 'April'):\n",
        "    month2 = '04'\n",
        "  if(month == 'May'):\n",
        "    month2 = '05'\n",
        "  if(month == 'June'):\n",
        "    month2 = '06'\n",
        "  if(month == 'July'):\n",
        "    month2 = '07'\n",
        "  if(month == 'August'):\n",
        "    month2 = '08'\n",
        "  if(month == 'September'):\n",
        "    month2 = '09'\n",
        "  if(month == 'October'):\n",
        "    month2 = '10'\n",
        "  if(month == 'November'):\n",
        "    month2 = '11'\n",
        "  if(month == 'December'):\n",
        "    month2 = '12'\n",
        "  date = f\"{year}-{month2}-{day}\"\n",
        "  return f\"{date} {time}\"\n",
        "\n",
        "\n",
        "\n",
        "Date_And_Time=GetTime(zone,2)\n",
        "print(f\"Date and Time is: \\\"{Date_And_Time}\\\"\")\n",
        "print(f\"running command: date -s '{Date_And_Time}'\")\n",
        "os.system(f\"date -s '{Date_And_Time}'\")"
      ],
      "metadata": {
        "id": "XMfs63svwSJg",
        "colab": {
          "base_uri": "https://localhost:8080/"
        },
        "outputId": "e0a2395f-8621-4765-a996-b9cd04350ab0"
      },
      "execution_count": null,
      "outputs": [
        {
          "output_type": "stream",
          "name": "stdout",
          "text": [
            "Date and Time is: \"2024-07-8 02:49:29\"\n",
            "running command: date -s '2024-07-8 02:49:29'\n"
          ]
        },
        {
          "output_type": "execute_result",
          "data": {
            "text/plain": [
              "256"
            ]
          },
          "metadata": {},
          "execution_count": 48
        }
      ]
    }
  ],
  "metadata": {
    "colab": {
      "provenance": [],
      "include_colab_link": true
    },
    "kernelspec": {
      "display_name": "Python 3",
      "name": "python3"
    }
  },
  "nbformat": 4,
  "nbformat_minor": 0
}