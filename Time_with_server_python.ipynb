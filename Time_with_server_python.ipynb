{
  "cells": [
    {
      "cell_type": "markdown",
      "metadata": {
        "id": "view-in-github",
        "colab_type": "text"
      },
      "source": [
        "<a href=\"https://colab.research.google.com/github/PhoenixStormJr/alternate-simple-ntp-phoenix/blob/main/Time_with_server_python.ipynb\" target=\"_parent\"><img src=\"https://colab.research.google.com/assets/colab-badge.svg\" alt=\"Open In Colab\"/></a>"
      ]
    },
    {
      "cell_type": "code",
      "source": [
        "#ONLY CHANGE THIS VARIABLE:\n",
        "Add_Hours = 23\n",
        "\n",
        "\n",
        "\n",
        "\n",
        "import os\n",
        "def GetTime(Format,Add_Hours=0):\n",
        "  import urllib.request\n",
        "  #Get time from server:\n",
        "  headers = {\n",
        "      'User-Agent': 'Mozilla/5.0 (Windows NT 10.0; Win64; x64) AppleWebKit/537.36 (KHTML, like Gecko) Chrome/58.0.3029.110 Safari/537.3'\n",
        "  }\n",
        "  mystr = urllib.request.urlopen(urllib.request.Request(\"https://time.is/New_York\", headers=headers)).read().decode(\"utf8\")\n",
        "  location = mystr.find('<time id=\"clock\">')\n",
        "  new_str = \"\"\n",
        "  for x in range(83):\n",
        "    new_str += mystr[location+x]\n",
        "    x = x + 1\n",
        "  time = \"\"\n",
        "  x = 17\n",
        "  while x < 25:\n",
        "    time += new_str[x]\n",
        "    x = x + 1\n",
        "  AMPM = \"\"\n",
        "  x = 81\n",
        "  while x < 83:\n",
        "    AMPM += new_str[x]\n",
        "    x = x + 1\n",
        "  #Time is \"time\" and AMPM is \"AMPM\"\n",
        "  #Split time into hour minute second\n",
        "  timesplit = time.split(\":\")\n",
        "  hour = int(timesplit[0])\n",
        "  minute = int(timesplit[1])\n",
        "  second = int(timesplit[2])\n",
        "  #Now convert to military time\n",
        "  if(AMPM == \"PM\"):\n",
        "    hour = hour + 12\n",
        "  #Add hours\n",
        "  hour = hour + Add_Hours\n",
        "  if(hour > 24):\n",
        "    hour = hour - 24\n",
        "  if(Format==1):\n",
        "    if(hour < 10):\n",
        "      hour = \"0\" + str(hour)\n",
        "    if(minute < 10):\n",
        "      minute = \"0\" + str(minute)\n",
        "    if(second < 10):\n",
        "      second = \"0\" + str(second)\n",
        "    time2= f\"{str(hour)}:{str(minute)}:{str(second)}\"\n",
        "    return time2\n",
        "  elif(Format==2):\n",
        "    if(hour > 12):\n",
        "      hour = hour - 12\n",
        "      if(hour < 10):\n",
        "        hour = \"0\" + str(hour)\n",
        "      if(minute < 10):\n",
        "        minute = \"0\" + str(minute)\n",
        "      if(second < 10):\n",
        "        second = \"0\" + str(second)\n",
        "      time2= f\"{str(hour)}:{str(minute)}:{str(second)}PM\"\n",
        "    else:\n",
        "      if(hour < 10):\n",
        "        hour = \"0\" + str(hour)\n",
        "      if(minute < 10):\n",
        "        minute = \"0\" + str(minute)\n",
        "      if(second < 10):\n",
        "        second = \"0\" + str(second)\n",
        "      time2= f\"{str(hour)}:{str(minute)}:{str(second)}AM\"\n",
        "    return time2\n",
        "\n",
        "time = GetTime(2,Add_Hours)\n",
        "print(f\"\\\"time is: {time}\\\"\")\n",
        "print(f'running command [ date +\"%T%p\" -s \"{time}\" ]')\n",
        "os.system(f'date +\"%T%p\" -s \"{time}\"')"
      ],
      "metadata": {
        "id": "XMfs63svwSJg",
        "colab": {
          "base_uri": "https://localhost:8080/"
        },
        "outputId": "1a81c9d6-a606-4f40-8c10-2a5b510b119a"
      },
      "execution_count": null,
      "outputs": [
        {
          "output_type": "stream",
          "name": "stdout",
          "text": [
            "\"time is: 03:33:51AM\"\n",
            "running command [ date +\"%T%p\" -s \"03:33:51AM\" ]\n"
          ]
        },
        {
          "output_type": "execute_result",
          "data": {
            "text/plain": [
              "256"
            ]
          },
          "metadata": {},
          "execution_count": 103
        }
      ]
    }
  ],
  "metadata": {
    "colab": {
      "provenance": [],
      "include_colab_link": true
    },
    "kernelspec": {
      "display_name": "Python 3",
      "name": "python3"
    }
  },
  "nbformat": 4,
  "nbformat_minor": 0
}