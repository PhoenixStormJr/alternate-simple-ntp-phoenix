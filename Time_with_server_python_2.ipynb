{
  "cells": [
    {
      "cell_type": "markdown",
      "metadata": {
        "id": "view-in-github",
        "colab_type": "text"
      },
      "source": [
        "<a href=\"https://colab.research.google.com/github/PhoenixStormJr/alternate-simple-ntp-phoenix/blob/main/Time_with_server_python_2.ipynb\" target=\"_parent\"><img src=\"https://colab.research.google.com/assets/colab-badge.svg\" alt=\"Open In Colab\"/></a>"
      ]
    },
    {
      "cell_type": "code",
      "source": [
        "#ONLY CHANGE THIS VARIABLE:\n",
        "Add_Hours = 23\n",
        "\n",
        "\n",
        "\n",
        "\n",
        "import os\n",
        "def GetTime(Format,Add_Hours=0):\n",
        "  import urllib.request\n",
        "  #Get time from server:\n",
        "  headers = {\n",
        "      'User-Agent': 'Mozilla/5.0 (Windows NT 10.0; Win64; x64) AppleWebKit/537.36 (KHTML, like Gecko) Chrome/58.0.3029.110 Safari/537.3'\n",
        "  }\n",
        "  mystr = urllib.request.urlopen(urllib.request.Request(\"https://time.is/New_York\", headers=headers)).read().decode(\"utf8\")\n",
        "  location = mystr.find('<time id=\"clock\">')\n",
        "  new_str = mystr[location:location+83]\n",
        "  time = new_str[17:25]\n",
        "  AMPM = new_str[81:83]\n",
        "  #Time is \"time\" and AMPM is \"AMPM\"\n",
        "  #Split time into hour minute second\n",
        "  timesplit = time.split(\":\")\n",
        "  hour = int(timesplit[0])\n",
        "  minute = timesplit[1]\n",
        "  second = timesplit[2]\n",
        "  #Now convert to military time\n",
        "  if(AMPM == \"PM\"):\n",
        "    hour = hour + 12\n",
        "  #Add hours\n",
        "  hour = hour + Add_Hours\n",
        "  if(hour > 24):\n",
        "    hour = hour - 24\n",
        "  if(Format==1):\n",
        "    if(hour < 10):\n",
        "      hour = \"0\" + str(hour)\n",
        "    time2= f\"{hour}:{minute}:{second}\"\n",
        "    return time2\n",
        "  elif(Format==2):\n",
        "    if(hour > 12):\n",
        "      hour = hour - 12\n",
        "      if(hour < 10):\n",
        "        hour = \"0\" + str(hour)\n",
        "      time2= f\"{hour}:{minute}:{second}PM\"\n",
        "    else:\n",
        "      if(hour < 10):\n",
        "        hour = \"0\" + str(hour)\n",
        "      time2= f\"{hour}:{minute}:{second}AM\"\n",
        "    return time2\n",
        "\n",
        "time = GetTime(2,Add_Hours)\n",
        "print(f\"\\\"time is: {time}\\\"\")\n",
        "print(f'running command [ date +\"%T%p\" -s \"{time}\" ]')\n",
        "os.system(f'date +\"%T%p\" -s \"{time}\"')"
      ],
      "metadata": {
        "id": "XMfs63svwSJg",
        "colab": {
          "base_uri": "https://localhost:8080/"
        },
        "outputId": "3421fef2-97bf-45f7-a6ba-4f6bda4d565e"
      },
      "execution_count": 1,
      "outputs": [
        {
          "output_type": "stream",
          "name": "stdout",
          "text": [
            "\"time is: 09:17:52PM\"\n",
            "running command [ date +\"%T%p\" -s \"09:17:52PM\" ]\n"
          ]
        },
        {
          "output_type": "execute_result",
          "data": {
            "text/plain": [
              "256"
            ]
          },
          "metadata": {},
          "execution_count": 1
        }
      ]
    }
  ],
  "metadata": {
    "colab": {
      "provenance": [],
      "include_colab_link": true
    },
    "kernelspec": {
      "display_name": "Python 3",
      "name": "python3"
    }
  },
  "nbformat": 4,
  "nbformat_minor": 0
}