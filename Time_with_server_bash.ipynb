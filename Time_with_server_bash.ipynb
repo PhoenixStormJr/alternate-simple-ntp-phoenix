{
  "cells": [
    {
      "cell_type": "markdown",
      "metadata": {
        "id": "view-in-github",
        "colab_type": "text"
      },
      "source": [
        "<a href=\"https://colab.research.google.com/github/PhoenixStormJr/alternate-simple-ntp-phoenix/blob/main/Time_with_server_bash.ipynb\" target=\"_parent\"><img src=\"https://colab.research.google.com/assets/colab-badge.svg\" alt=\"Open In Colab\"/></a>"
      ]
    },
    {
      "cell_type": "code",
      "source": [
        "bash_code ='''#!/bin/bash\n",
        "\n",
        "#ONLY CHANGE THIS LINE HERE:\n",
        "Add_Hours=23\n",
        "\n",
        "\n",
        "\n",
        "\n",
        "function FindStringInString {\n",
        "  for (( x=0; x<${#1}; x++ )); do\n",
        "    if [ \"${1:$x:${#2}}\" = \"$2\" ]; then\n",
        "      echo $x\n",
        "      break\n",
        "    fi\n",
        "  done\n",
        "}\n",
        "\n",
        "function GetTime {\n",
        "  mystr=$(wget --user-agent=\"Mozilla\" -O - https://time.is/New_York)\n",
        "  search1='<time id=\"clock\">'\n",
        "  location=$(FindStringInString \"${mystr}\" \"${search1}\")\n",
        "  new_str=\"${mystr:$location:83}\"\n",
        "  time=\"${new_str:17:8}\"\n",
        "  AMPM=\"${new_str:81:2}\"\n",
        "  IFS=':' read -r -a timesplit <<< \"$time\"\n",
        "  hour=\"${timesplit[0]}\"\n",
        "  minute=\"${timesplit[1]}\"\n",
        "  second=\"${timesplit[2]}\"\n",
        "  #convert to military time\n",
        "  if [ \"$AMPM\" = \"PM\" ]; then\n",
        "    hour=$(($hour + 12))\n",
        "  fi\n",
        "  #Add Hours:\n",
        "  hour=$(($hour + $Add_Hours))\n",
        "  if [ \"$hour\" -gt \"24\" ]; then\n",
        "    hour=$(($hour - 24))\n",
        "  fi\n",
        "  if [ \"$1\" -eq \"1\" ]; then\n",
        "    if [ \"$hour\" -lt \"10\" ]; then\n",
        "      hour=\"0${hour}\"\n",
        "    fi\n",
        "    echo \"${hour}:${minute}:${second}\"\n",
        "  elif [[ \"$1\" == \"2\" ]]; then\n",
        "    if [ \"$hour\" -gt \"12\" ]; then\n",
        "      hour=$(($hour - 12))\n",
        "    fi\n",
        "    if [ \"$hour\" -lt \"10\" ]; then\n",
        "      hour=\"0${hour}\"\n",
        "    fi\n",
        "    echo \"${hour}:${minute}:${second}${AMPM}\"\n",
        "  fi\n",
        "}\n",
        "\n",
        "time=$(GetTime 2)\n",
        "echo \"The time is: ${time}\"\n",
        "date +\"%T%p\" -s $time\n",
        "\n",
        "'''\n",
        "\n",
        "\n",
        "bash_file = open(\"/content/bash_code.sh\", \"w\")\n",
        "bash_file.write(bash_code)\n",
        "bash_file.close()\n",
        "!chmod +x /content/bash_code.sh\n",
        "!/content/bash_code.sh"
      ],
      "metadata": {
        "id": "XMfs63svwSJg",
        "colab": {
          "base_uri": "https://localhost:8080/"
        },
        "outputId": "a0ba73b1-6ebd-4803-ee54-77b17bb5cde8"
      },
      "execution_count": null,
      "outputs": [
        {
          "output_type": "stream",
          "name": "stdout",
          "text": [
            "--2024-07-07 22:06:48--  https://time.is/New_York\n",
            "Resolving time.is (time.is)... 104.26.12.54, 172.67.68.157, 104.26.13.54, ...\n",
            "Connecting to time.is (time.is)|104.26.12.54|:443... connected.\n",
            "HTTP request sent, awaiting response... 200 OK\n",
            "Length: unspecified [text/html]\n",
            "Saving to: ‘STDOUT’\n",
            "\n",
            "\r-                       [<=>                 ]       0  --.-KB/s               \r-                       [ <=>                ]  46.72K  --.-KB/s    in 0.01s   \n",
            "\n",
            "2024-07-07 22:06:49 (3.04 MB/s) - written to stdout [47839]\n",
            "\n",
            "The time is: 05:06:49PM\n",
            "date: cannot set date: Operation not permitted\n",
            "17:06:49PM\n"
          ]
        }
      ]
    }
  ],
  "metadata": {
    "colab": {
      "provenance": [],
      "include_colab_link": true
    },
    "kernelspec": {
      "display_name": "Python 3",
      "name": "python3"
    }
  },
  "nbformat": 4,
  "nbformat_minor": 0
}